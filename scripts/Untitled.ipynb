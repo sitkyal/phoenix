{
 "cells": [
  {
   "cell_type": "code",
   "execution_count": 1,
   "metadata": {},
   "outputs": [
    {
     "name": "stdout",
     "output_type": "stream",
     "text": [
      "Decision Tree Classifier Accuracy: 86.98\n",
      "Running All\n",
      "Decision Tree Classifier Accuracy: 86.98\n",
      "KNN Accuracy: 84.74\n",
      "Logisitic Regression Accuracy: 80.25\n"
     ]
    },
    {
     "name": "stderr",
     "output_type": "stream",
     "text": [
      "/Users/rashmi/anaconda/lib/python2.7/site-packages/sklearn/cross_validation.py:44: DeprecationWarning: This module was deprecated in version 0.18 in favor of the model_selection module into which all the refactored classes and functions are moved. Also note that the interface of the new CV iterators are different from that of this module. This module will be removed in 0.20.\n",
      "  \"This module will be removed in 0.20.\", DeprecationWarning)\n"
     ]
    },
    {
     "name": "stdout",
     "output_type": "stream",
     "text": [
      "XGBoost Accuracy: 85.19\n",
      "Support Vector Machine Accuracy: 83.5\n",
      "Random Forest Classifier Accuracy: 86.98\n",
      "AdaBoost Classifier Accuracy: 82.38\n",
      "Gradient Boosting Classifier Accuracy: 85.75\n",
      "                     Model  Score\n",
      "5            Random Forest  86.98\n",
      "6            Decision Tree  86.98\n",
      "4        Gradient Boosting  85.75\n",
      "0                  XGBoost  85.19\n",
      "2                      KNN  84.74\n",
      "3  Support Vector Machines  83.50\n",
      "7                 ADABoost  82.38\n",
      "1      Logistic Regression  80.25\n"
     ]
    }
   ],
   "source": [
    "# run_all.py\n",
    "\n",
    "# -*- coding: utf-8 -*-\n",
    "\"\"\"\n",
    "Created on Thu Jun 01 11:42:34 2017\n",
    "\n",
    "@author: ADASNURK\n",
    "\"\"\"\n",
    "\n",
    "def run_all():\n",
    "    import pandas as pd\n",
    "    from ds import decision_tree\n",
    "    from knn import knn\n",
    "    from logreg import logreg\n",
    "    from sv import sv\n",
    "    from ensemble_methods import ensemble_methods\n",
    "    from xg import xgb\n",
    "    \n",
    "    print('Running All')\n",
    "    acc_ds = decision_tree()\n",
    "    acc_knn = knn()\n",
    "    acc_log = logreg()\n",
    "    acc_xg = xgb()\n",
    "    acc_svc = sv()\n",
    "    acc_rf, acc_ab, acc_gb = ensemble_methods()\n",
    "       \n",
    "    # Model Performance\n",
    "\n",
    "    models = pd.DataFrame({\n",
    "    'Model': ['XGBoost','Logistic Regression', 'KNN', 'Support Vector Machines', 'Gradient Boosting',\n",
    "              'Random Forest', 'Decision Tree', 'ADABoost'],\n",
    "    'Score': [acc_xg, acc_log, acc_knn,acc_svc, acc_gb, acc_rf, acc_ds, acc_ab ]})\n",
    "    models = models.sort_values(by='Score', ascending=True)\n",
    "    print models.sort_values(by='Score', ascending=False)\n",
    "\n",
    "run_all()"
   ]
  },
  {
   "cell_type": "code",
   "execution_count": null,
   "metadata": {
    "collapsed": true
   },
   "outputs": [],
   "source": []
  }
 ],
 "metadata": {
  "kernelspec": {
   "display_name": "Python [default]",
   "language": "python",
   "name": "python2"
  },
  "language_info": {
   "codemirror_mode": {
    "name": "ipython",
    "version": 2
   },
   "file_extension": ".py",
   "mimetype": "text/x-python",
   "name": "python",
   "nbconvert_exporter": "python",
   "pygments_lexer": "ipython2",
   "version": "2.7.13"
  }
 },
 "nbformat": 4,
 "nbformat_minor": 2
}
